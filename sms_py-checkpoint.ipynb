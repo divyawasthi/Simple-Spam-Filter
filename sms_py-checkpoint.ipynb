{
 "cells": [
  {
   "cell_type": "code",
   "execution_count": 28,
   "id": "2ed54e2c",
   "metadata": {},
   "outputs": [],
   "source": [
    "import numpy as np \n",
    "import matplotlib.pyplot as plt \n",
    "import pandas as pd \n",
    "import string "
   ]
  },
  {
   "cell_type": "code",
   "execution_count": 29,
   "id": "7f9bc25b",
   "metadata": {},
   "outputs": [],
   "source": [
    "spam_df = pd.read_csv(r\"spam.csv\",encoding='ISO-8859-1')\n",
    "spam_df = spam_df[['v1','v2']]\n",
    "spam_df.rename(columns={'v1':'spam','v2':'text'},inplace=True)\n",
    "spam_df.spam = spam_df.spam.apply(lambda s : True if s == 'spam' else False)\n",
    "spam_df.text = spam_df.text.apply(lambda s :\n",
    "        s.lower().translate(str.maketrans('','',string.punctuation))\n",
    "                                 )\n",
    "\n",
    "spam_df = spam_df.sample(frac=1)"
   ]
  },
  {
   "cell_type": "code",
   "execution_count": 30,
   "id": "4a8640aa",
   "metadata": {},
   "outputs": [],
   "source": [
    "train_spam_df = spam_df.iloc[:int(len(spam_df)*0.7)]\n",
    "test_spam_df = spam_df.iloc[int(len(spam_df)*0.7):]\n"
   ]
  },
  {
   "cell_type": "code",
   "execution_count": 31,
   "id": "8952d340",
   "metadata": {},
   "outputs": [],
   "source": [
    "spam_text_frac = train_spam_df.spam.mean()"
   ]
  },
  {
   "cell_type": "code",
   "execution_count": 32,
   "id": "5efe7f2c",
   "metadata": {},
   "outputs": [],
   "source": [
    "train_spam_words = ''.join(train_spam_df[train_spam_df.spam==True].text).split(' ')\n",
    "train_non_spam_words = ''.join(train_spam_df[train_spam_df.spam==False].text).split(' ')\n",
    "common = set(train_spam_words).intersection(set(train_non_spam_words))"
   ]
  },
  {
   "cell_type": "code",
   "execution_count": 33,
   "id": "abd430b6",
   "metadata": {},
   "outputs": [],
   "source": [
    "train_spam_bag_c = dict(); train_non_spam_bag_c = dict()\n",
    "for word in common : \n",
    "    train_spam_bag_c[word] = train_spam_words.count(word)/len(train_spam_words)\n",
    "    train_non_spam_bag_c[word] = train_non_spam_words.count(word)/len(train_non_spam_words)"
   ]
  },
  {
   "cell_type": "code",
   "execution_count": 34,
   "id": "f4cc5052",
   "metadata": {},
   "outputs": [],
   "source": [
    "train_spam_bag2,train_non_spam_bag2 = dict(),dict()\n",
    "for word in train_spam_words : \n",
    "    train_spam_bag2[word] = train_spam_words.count(word)/len(train_spam_words)\n",
    "for word in train_non_spam_words : \n",
    "    train_non_spam_bag2[word] = train_non_spam_words.count(word)/len(train_non_spam_words)\n",
    "    "
   ]
  },
  {
   "cell_type": "code",
   "execution_count": 53,
   "id": "28862054",
   "metadata": {},
   "outputs": [],
   "source": [
    "def predict_text(text,verbose=False):\n",
    "    valid_words = [word for word in text if word in train_spam_bag_c]\n",
    "    spam_probs = [train_spam_bag_c[word] for word in valid_words]\n",
    "    non_spam_probs = [train_non_spam_bag_c[word] for word in valid_words]\n",
    "    if verbose : \n",
    "        data_df = pd.DataFrame()\n",
    "        data_df['word'] = valid_words\n",
    "        data_df['spam_prob'] = spam_probs\n",
    "        data_df['non_spam_prob'] = non_spam_probs \n",
    "        data_df['ratio'] = [s/n if n>0 else np.inf for s,n in zip(spam_probs,non_spam_probs)]\n",
    "        print(data_df)\n",
    "    spam_score = np.prod(spam_probs)*spam_text_frac\n",
    "    non_spam_score = np.prod(non_spam_probs)*(1-spam_text_frac)\n",
    "    if verbose : \n",
    "        print(f'spam score is {spam_score/(spam_score+non_spam_score)}')\n",
    "        print(f'non spam score is {non_spam_score/(spam_score+non_spam_score)}')\n",
    "    return spam_score >= non_spam_score "
   ]
  },
  {
   "cell_type": "code",
   "execution_count": 63,
   "id": "a8c69267",
   "metadata": {},
   "outputs": [
    {
     "data": {
      "text/plain": [
       "True"
      ]
     },
     "execution_count": 63,
     "metadata": {},
     "output_type": "execute_result"
    }
   ],
   "source": [
    "predict_text('urgent call this number'.split(),verbose=True)\n"
   ]
  },
  {
   "cell_type": "code",
   "execution_count": 64,
   "id": "5bf5f0e7",
   "metadata": {},
   "outputs": [],
   "source": [
    "predictions = test_spam_df.text.apply(lambda t : predict_text(t.split()))"
   ]
  },
  {
   "cell_type": "code",
   "execution_count": 65,
   "id": "6c755517",
   "metadata": {},
   "outputs": [
    {
     "data": {
      "text/plain": [
       "0.8985507246376812"
      ]
     },
     "execution_count": 65,
     "metadata": {},
     "output_type": "execute_result"
    }
   ],
   "source": [
    "correctly_detected = np.sum((predictions == True)&(test_spam_df.spam == True))/np.sum(test_spam_df.spam== True)\n",
    "correctly_detected"
   ]
  }
 ],
 "metadata": {
  "kernelspec": {
   "display_name": "Python 3 (ipykernel)",
   "language": "python",
   "name": "python3"
  },
  "language_info": {
   "codemirror_mode": {
    "name": "ipython",
    "version": 3
   },
   "file_extension": ".py",
   "mimetype": "text/x-python",
   "name": "python",
   "nbconvert_exporter": "python",
   "pygments_lexer": "ipython3",
   "version": "3.9.16"
  }
 },
 "nbformat": 4,
 "nbformat_minor": 5
}
